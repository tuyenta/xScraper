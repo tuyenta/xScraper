{
 "cells": [
  {
   "cell_type": "code",
   "execution_count": null,
   "metadata": {},
   "outputs": [],
   "source": [
    "#!/usr/bin/env python\n",
    "import sys\n",
    "import logging\n",
    "from logging import StreamHandler, FileHandler\n",
    "from xscraper.utils import search_and_download\n",
    "\n",
    "formatter = logging.Formatter(\n",
    "    fmt=\"%(asctime)s: %(levelname)s: %(name)s: %(message)s\", datefmt=\"%Y-%m-%d %H:%M%S\"\n",
    ")\n",
    "\n",
    "handlers = []\n",
    "stream_handler = StreamHandler(sys.stdout)\n",
    "stream_handler.setFormatter(formatter)\n",
    "handlers.append(stream_handler)\n",
    "\n",
    "file_handler = FileHandler(filename=\"googlesearch.log\")\n",
    "file_handler.setFormatter(formatter)\n",
    "handlers.append(file_handler)\n",
    "\n",
    "logging.basicConfig(level=logging.INFO, handlers=handlers)\n",
    "\n",
    "logger = logging.getLogger(__name__)\n",
    "\n",
    "\n",
    "url = 'https://www.google.com/search?q=filetype%3Apdf+%22addendum+document%22&rlz=1C5CHFA_enFR981FR981&oq=filetype%3Apdf+%22addendum+document%22&aqs=chrome..69i57j69i58.441j0j15&sourceid=chrome&ie=UTF-8'\n",
    "search_and_download(url, results=100)"
   ]
  }
 ],
 "metadata": {
  "interpreter": {
   "hash": "b68f07c5a6f09b81a4130d17fa455e319f113248fec3e82f55a1fc34a1547fae"
  },
  "kernelspec": {
   "display_name": "Python 3.9.9 64-bit ('venv': venv)",
   "language": "python",
   "name": "python3"
  },
  "language_info": {
   "codemirror_mode": {
    "name": "ipython",
    "version": 3
   },
   "file_extension": ".py",
   "mimetype": "text/x-python",
   "name": "python",
   "nbconvert_exporter": "python",
   "pygments_lexer": "ipython3",
   "version": "3.7.7"
  },
  "orig_nbformat": 4
 },
 "nbformat": 4,
 "nbformat_minor": 2
}
